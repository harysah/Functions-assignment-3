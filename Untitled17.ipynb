{
 "cells": [
  {
   "cell_type": "code",
   "execution_count": null,
   "id": "e8946c09-47d9-45ec-bb99-11500308577d",
   "metadata": {},
   "outputs": [],
   "source": [
    "PW Assignment 3"
   ]
  },
  {
   "cell_type": "code",
   "execution_count": null,
   "id": "9a635060-945e-4467-882e-583964454df6",
   "metadata": {},
   "outputs": [],
   "source": [
    "1. What is the difference between a function and a method in Python?"
   ]
  },
  {
   "cell_type": "code",
   "execution_count": null,
   "id": "a5d2aaee-2270-4649-a6b2-8929be6a67cd",
   "metadata": {},
   "outputs": [],
   "source": [
    "Function: A block of code defined using def or lambda that can be called independently.\n",
    "\n",
    "Method: A function associated with an object; called using the object (e.g., str.upper())."
   ]
  },
  {
   "cell_type": "code",
   "execution_count": null,
   "id": "d5de30e3-6c0f-42d6-8586-7ff8da1f370f",
   "metadata": {},
   "outputs": [],
   "source": [
    "2. Explain the concept of function arguments and parameters in Python."
   ]
  },
  {
   "cell_type": "code",
   "execution_count": null,
   "id": "37a2a170-bbaf-4cc5-a25f-8fd89b3d2bda",
   "metadata": {},
   "outputs": [],
   "source": [
    "Parameters are variable names in a function definition.\n",
    "\n",
    "Arguments are actual values passed when calling a function."
   ]
  },
  {
   "cell_type": "code",
   "execution_count": null,
   "id": "eaadf0b8-8275-403c-a8de-fee5bc900245",
   "metadata": {},
   "outputs": [],
   "source": [
    "3. What are the different ways to define and call a function in Python?\n",
    "\n"
   ]
  },
  {
   "cell_type": "code",
   "execution_count": null,
   "id": "4dde43e9-5eb1-40ac-a218-b5a6aec0feb7",
   "metadata": {},
   "outputs": [],
   "source": [
    "Define:"
   ]
  },
  {
   "cell_type": "code",
   "execution_count": null,
   "id": "adbe8368-fb86-4f22-b754-f3dfaf5dd9fb",
   "metadata": {},
   "outputs": [],
   "source": [
    "def add(a, b):\n",
    "    return a + b"
   ]
  },
  {
   "cell_type": "code",
   "execution_count": null,
   "id": "f7d46a37-4c64-475d-8a8e-f91042384739",
   "metadata": {},
   "outputs": [],
   "source": [
    "Call:"
   ]
  },
  {
   "cell_type": "code",
   "execution_count": null,
   "id": "cd9bf397-0ec1-4c5c-8561-7247a00071f3",
   "metadata": {},
   "outputs": [],
   "source": [
    "result = add(2, 3)"
   ]
  },
  {
   "cell_type": "code",
   "execution_count": null,
   "id": "1c5337ea-d7a1-41b5-8ee7-da71ad89fe55",
   "metadata": {},
   "outputs": [],
   "source": [
    "Other types: lambda, recursion, nested functions.\n",
    "\n"
   ]
  },
  {
   "cell_type": "code",
   "execution_count": null,
   "id": "e66eba99-b643-4292-9204-ba32166b9f20",
   "metadata": {},
   "outputs": [],
   "source": [
    "4. What is the purpose of the `return` statement in a Python function?"
   ]
  },
  {
   "cell_type": "code",
   "execution_count": null,
   "id": "06571713-6eec-4c49-b00f-f0d733578c17",
   "metadata": {},
   "outputs": [],
   "source": [
    "Sends a value back from a function to the caller.\n",
    "\n",
    "Ends the function execution."
   ]
  },
  {
   "cell_type": "code",
   "execution_count": null,
   "id": "d03dc8ec-bcc1-4e5d-b8c9-8b00362171d1",
   "metadata": {},
   "outputs": [],
   "source": [
    "5. What are iterators in Python and how do they differ from iterables?\n",
    "\n"
   ]
  },
  {
   "cell_type": "code",
   "execution_count": null,
   "id": "3a875395-6aa6-41ce-b6dd-58b0395718d0",
   "metadata": {},
   "outputs": [],
   "source": [
    "Iterable: Any object that can return an iterator (e.g., list, tuple, string).\n",
    "\n",
    "Iterator: An object with __iter__() and __next__() methods."
   ]
  },
  {
   "cell_type": "code",
   "execution_count": null,
   "id": "b5b3e2b1-8b6c-45ab-8bef-1f7732082ce3",
   "metadata": {},
   "outputs": [],
   "source": [
    "lst = [1, 2, 3]      # iterable\n",
    "it = iter(lst)       # iterator\n",
    "print(next(it))      # 1"
   ]
  },
  {
   "cell_type": "code",
   "execution_count": null,
   "id": "9cef40f9-259f-46b4-89d2-fd18fa4af22c",
   "metadata": {},
   "outputs": [],
   "source": [
    "6. Explain the concept of generators in Python and how they are defined."
   ]
  },
  {
   "cell_type": "code",
   "execution_count": null,
   "id": "fdb627e3-0879-4d5d-9a5a-db08f0988fb0",
   "metadata": {},
   "outputs": [],
   "source": [
    "Functions using yield to return an iterator one item at a time.\n",
    "\n",
    " def count_up_to(n):\n",
    "    i = 1\n",
    "    while i <= n:\n",
    "        yield i\n",
    "        i += 1"
   ]
  },
  {
   "cell_type": "code",
   "execution_count": null,
   "id": "a2af7a51-2a54-43b0-92b4-15b0357bc061",
   "metadata": {},
   "outputs": [],
   "source": [
    "7. What are the advantages of using generators over regular functions?"
   ]
  },
  {
   "cell_type": "code",
   "execution_count": null,
   "id": "7fbc40c2-e6de-40cb-a980-1c0c4586aae1",
   "metadata": {},
   "outputs": [],
   "source": [
    "Memory efficient (do not store all items in memory).\n",
    "\n",
    "Useful for large datasets or infinite sequences.\n",
    "\n",
    "Lazy evaluation: generate items on demand.\n",
    "\n"
   ]
  },
  {
   "cell_type": "code",
   "execution_count": null,
   "id": "7cb9449e-0a6b-48a3-997b-5840f7889657",
   "metadata": {},
   "outputs": [],
   "source": [
    "8. What is a lambda function in Python and when is it typically used?"
   ]
  },
  {
   "cell_type": "code",
   "execution_count": null,
   "id": "43807c63-4b3e-4bf5-af85-0c92b0f1edfb",
   "metadata": {},
   "outputs": [],
   "source": [
    "Anonymous one-liner functions.\n",
    "\n",
    "Common in map(), filter(), and sorting.\n",
    "\n",
    " square = lambda x: x * x\n",
    "print(square(5))  # 25\n"
   ]
  },
  {
   "cell_type": "code",
   "execution_count": null,
   "id": "cc65c768-158c-4d2e-9e14-0a67f33b10e6",
   "metadata": {},
   "outputs": [],
   "source": [
    "9. Explain the purpose and usage of the `map()` function in Python."
   ]
  },
  {
   "cell_type": "code",
   "execution_count": null,
   "id": "c686e4eb-b216-4d08-b663-56bf1b07eddb",
   "metadata": {},
   "outputs": [],
   "source": [
    "Applies a function to all items in an iterable."
   ]
  },
  {
   "cell_type": "code",
   "execution_count": null,
   "id": "a77cc226-c58f-4100-a6e2-6b3178154ab9",
   "metadata": {},
   "outputs": [],
   "source": [
    "nums = [1, 2, 3]\n",
    "squared = list(map(lambda x: x**2, nums))"
   ]
  },
  {
   "cell_type": "code",
   "execution_count": null,
   "id": "b9cfdb53-5b94-4535-8763-0371c5fe9232",
   "metadata": {},
   "outputs": [],
   "source": [
    "10. What is the difference between `map()`, `reduce()`, and `filter()` functions in Python?"
   ]
  },
  {
   "cell_type": "code",
   "execution_count": null,
   "id": "6717cf46-9cb8-4666-9c46-4840842cb379",
   "metadata": {},
   "outputs": [],
   "source": [
    "map()\t                       Applies a function to all items\n",
    "filter()\t                   Filters items based on a condition\n",
    "reduce() (from functools)\t   Reduces a list to a single value using a function"
   ]
  },
  {
   "cell_type": "code",
   "execution_count": null,
   "id": "3b0aba89-5a68-4472-9bf2-69c65d63ebec",
   "metadata": {},
   "outputs": [],
   "source": [
    "11. Using pen & Paper write the internal mechanism for sum operation using  reduce function on this given\n",
    "list:[47,11,42,13]; "
   ]
  },
  {
   "cell_type": "code",
   "execution_count": null,
   "id": "6e9dd36c-3a23-409d-b17d-8a7f6449de17",
   "metadata": {},
   "outputs": [],
   "source": [
    "from functools import reduce\n",
    "\n",
    "numbers = [47, 11, 42, 13]\n",
    "result = reduce(lambda x, y: x + y, numbers)"
   ]
  },
  {
   "cell_type": "code",
   "execution_count": null,
   "id": "00f9bc5a-2864-4e88-adc5-e2b9398edf5b",
   "metadata": {},
   "outputs": [],
   "source": [
    "Internal Working of reduce()\n",
    "reduce() applies the lambda function cumulatively to the items of the list:\n",
    "\n",
    "Initial list: [47, 11, 42, 13]"
   ]
  },
  {
   "cell_type": "code",
   "execution_count": null,
   "id": "7c748850-9dde-4aad-845a-6ef687cc73a7",
   "metadata": {},
   "outputs": [],
   "source": [
    "x = 47\n",
    "y = 11\n",
    "=> x + y = 58"
   ]
  },
  {
   "cell_type": "code",
   "execution_count": null,
   "id": "7886426c-0573-440e-9929-186f85b511f0",
   "metadata": {},
   "outputs": [],
   "source": [
    "x = 58 (result from previous step)\n",
    "y = 42\n",
    "=> x + y = 100"
   ]
  },
  {
   "cell_type": "code",
   "execution_count": null,
   "id": "34fb46fe-a33c-4741-8279-f9416c25287a",
   "metadata": {},
   "outputs": [],
   "source": [
    "x = 100 (result from previous step)\n",
    "y = 13\n",
    "=> x + y = 113"
   ]
  },
  {
   "cell_type": "code",
   "execution_count": null,
   "id": "e92c5a1d-33bf-4156-9309-425ecc60adde",
   "metadata": {},
   "outputs": [],
   "source": [
    "(((47 + 11) + 42) + 13) = 113"
   ]
  },
  {
   "cell_type": "code",
   "execution_count": null,
   "id": "4a8d16da-0608-4ab9-a623-afe8aa20ca8f",
   "metadata": {},
   "outputs": [],
   "source": [
    "Practical Questions"
   ]
  },
  {
   "cell_type": "code",
   "execution_count": null,
   "id": "c83abd8d-35f4-46df-9e7f-4fb4490034ab",
   "metadata": {},
   "outputs": [],
   "source": [
    "1. Write a Python function that takes a list of numbers as input and returns the sum of all even numbers in\n",
    "the list."
   ]
  },
  {
   "cell_type": "code",
   "execution_count": 1,
   "id": "49bf8343-e58f-41f3-bf86-005aacc3d973",
   "metadata": {},
   "outputs": [
    {
     "name": "stdout",
     "output_type": "stream",
     "text": [
      "12\n"
     ]
    }
   ],
   "source": [
    "def sum_of_even(numbers):\n",
    "    return sum(num for num in numbers if num % 2 == 0)\n",
    "\n",
    "# Example usage:\n",
    "print(sum_of_even([1, 2, 3, 4, 5, 6])) "
   ]
  },
  {
   "cell_type": "code",
   "execution_count": null,
   "id": "732056e3-5fe0-40d5-a30a-41e09cbb2577",
   "metadata": {},
   "outputs": [],
   "source": [
    "2. Create a Python function that accepts a string and returns the reverse of that string."
   ]
  },
  {
   "cell_type": "code",
   "execution_count": 2,
   "id": "7d8ee08d-a327-4918-b661-53f77d6d6105",
   "metadata": {},
   "outputs": [
    {
     "name": "stdout",
     "output_type": "stream",
     "text": [
      "olleh\n"
     ]
    }
   ],
   "source": [
    "def reverse_string(s):\n",
    "    return s[::-1]\n",
    "\n",
    "# Example usage:\n",
    "print(reverse_string(\"hello\"))"
   ]
  },
  {
   "cell_type": "code",
   "execution_count": null,
   "id": "1d57c865-3d05-4903-8aa4-3b7160e4bd49",
   "metadata": {},
   "outputs": [],
   "source": [
    "3. Implement a Python function that takes a list of integers and returns a new list containing the squares of\n",
    "each number."
   ]
  },
  {
   "cell_type": "code",
   "execution_count": 3,
   "id": "f55e7906-8eac-4724-9386-a9dd3cbd415c",
   "metadata": {},
   "outputs": [
    {
     "name": "stdout",
     "output_type": "stream",
     "text": [
      "[1, 4, 9, 16]\n"
     ]
    }
   ],
   "source": [
    "def square_list(numbers):\n",
    "    return [num ** 2 for num in numbers]\n",
    "\n",
    "# Example usage:\n",
    "print(square_list([1, 2, 3, 4]))"
   ]
  },
  {
   "cell_type": "code",
   "execution_count": null,
   "id": "5899a14f-5268-4bfa-aeff-4fa89be81ece",
   "metadata": {},
   "outputs": [],
   "source": [
    "4. Write a Python function that checks if a given number is prime or not from 1 to 200."
   ]
  },
  {
   "cell_type": "code",
   "execution_count": 4,
   "id": "c1d98cbb-89a9-4ae3-a1f9-da8bd6515bec",
   "metadata": {},
   "outputs": [
    {
     "name": "stdout",
     "output_type": "stream",
     "text": [
      "2 3 5 7 11 13 17 19 23 29 31 37 41 43 47 53 59 61 67 71 73 79 83 89 97 101 103 107 109 113 127 131 137 139 149 151 157 163 167 173 179 181 191 193 197 199 "
     ]
    }
   ],
   "source": [
    "def is_prime(n):\n",
    "    if n < 2:\n",
    "        return False\n",
    "    for i in range(2, int(n**0.5)+1):\n",
    "        if n % i == 0:\n",
    "            return False\n",
    "    return True\n",
    "\n",
    "# Example usage:\n",
    "for num in range(1, 201):\n",
    "    if is_prime(num):\n",
    "        print(num, end=' ')"
   ]
  },
  {
   "cell_type": "code",
   "execution_count": null,
   "id": "f8af3f5a-aab1-4372-b80a-d1bd0277debd",
   "metadata": {},
   "outputs": [],
   "source": [
    "5. Create an iterator class in Python that generates the Fibonacci sequence up to a specified number of\n",
    "terms.\n",
    "\n"
   ]
  },
  {
   "cell_type": "code",
   "execution_count": 5,
   "id": "6f902bf7-1ea0-4764-9e45-9012249b0c5a",
   "metadata": {},
   "outputs": [
    {
     "name": "stdout",
     "output_type": "stream",
     "text": [
      "1 1 2 3 5 8 13 21 34 55 "
     ]
    }
   ],
   "source": [
    "class Fibonacci:\n",
    "    def __init__(self, terms):\n",
    "        self.terms = terms\n",
    "        self.count = 0\n",
    "        self.a, self.b = 0, 1\n",
    "\n",
    "    def __iter__(self):\n",
    "        return self\n",
    "\n",
    "    def __next__(self):\n",
    "        if self.count >= self.terms:\n",
    "            raise StopIteration\n",
    "        self.a, self.b = self.b, self.a + self.b\n",
    "        self.count += 1\n",
    "        return self.a\n",
    "\n",
    "# Example usage:\n",
    "for num in Fibonacci(10):\n",
    "    print(num, end=' ')"
   ]
  },
  {
   "cell_type": "code",
   "execution_count": null,
   "id": "26b737e5-1a54-4ef8-bee4-74084c4fbf53",
   "metadata": {},
   "outputs": [],
   "source": [
    "6. Write a generator function in Python that yields the powers of 2 up to a given exponent."
   ]
  },
  {
   "cell_type": "code",
   "execution_count": 6,
   "id": "30219cad-879f-4163-862e-539fa03a71a1",
   "metadata": {},
   "outputs": [
    {
     "name": "stdout",
     "output_type": "stream",
     "text": [
      "1 2 4 8 16 32 "
     ]
    }
   ],
   "source": [
    "def powers_of_two(n):\n",
    "    for i in range(n + 1):\n",
    "        yield 2 ** i\n",
    "\n",
    "# Example usage:\n",
    "for power in powers_of_two(5):\n",
    "    print(power, end=' ')"
   ]
  },
  {
   "cell_type": "code",
   "execution_count": null,
   "id": "2daf9f0c-3ac1-41b5-aa01-f53891a136b5",
   "metadata": {},
   "outputs": [],
   "source": [
    "7. Implement a generator function that reads a file line by line and yields each line as a string."
   ]
  },
  {
   "cell_type": "code",
   "execution_count": 7,
   "id": "a7b8a16e-d0d0-4fb0-9729-fa463c1bc1b0",
   "metadata": {},
   "outputs": [],
   "source": [
    "def read_lines(filename):\n",
    "    with open(filename, 'r') as file:\n",
    "        for line in file:\n",
    "            yield line.strip()"
   ]
  },
  {
   "cell_type": "code",
   "execution_count": null,
   "id": "1581d7f5-40b9-4661-9690-01df6b474410",
   "metadata": {},
   "outputs": [],
   "source": [
    "8. Use a lambda function in Python to sort a list of tuples based on the second element of each tuple."
   ]
  },
  {
   "cell_type": "code",
   "execution_count": 8,
   "id": "d8665bd1-52ee-4c66-bc64-380f9de27ebf",
   "metadata": {},
   "outputs": [
    {
     "name": "stdout",
     "output_type": "stream",
     "text": [
      "[(2, 1), (3, 2), (1, 3), (4, 5)]\n"
     ]
    }
   ],
   "source": [
    "tuples = [(1, 3), (2, 1), (4, 5), (3, 2)]\n",
    "sorted_tuples = sorted(tuples, key=lambda x: x[1])\n",
    "\n",
    "print(sorted_tuples)"
   ]
  },
  {
   "cell_type": "code",
   "execution_count": null,
   "id": "b9bfb452-8a4d-4c13-9c78-a18aa3c0c3b2",
   "metadata": {},
   "outputs": [],
   "source": [
    "9. Write a Python program that uses `map()` to convert a list of temperatures from Celsius to Fahrenheit."
   ]
  },
  {
   "cell_type": "code",
   "execution_count": 9,
   "id": "5ce5a5d4-77a2-4f5d-bd90-42188afa2941",
   "metadata": {},
   "outputs": [
    {
     "name": "stdout",
     "output_type": "stream",
     "text": [
      "[32.0, 50.0, 68.0, 86.0, 104.0]\n"
     ]
    }
   ],
   "source": [
    "celsius = [0, 10, 20, 30, 40]\n",
    "fahrenheit = list(map(lambda c: (c * 9/5) + 32, celsius))\n",
    "\n",
    "print(fahrenheit)"
   ]
  },
  {
   "cell_type": "code",
   "execution_count": null,
   "id": "4eb4da59-e454-4b50-8ecb-1ffe5dc8b79b",
   "metadata": {},
   "outputs": [],
   "source": [
    "10. Create a Python program that uses filter() to remove all the vowels from a given string."
   ]
  },
  {
   "cell_type": "code",
   "execution_count": 10,
   "id": "b22cbe6c-acf4-4a95-9ae3-240caa28c479",
   "metadata": {},
   "outputs": [
    {
     "name": "stdout",
     "output_type": "stream",
     "text": [
      "Hll Wrld\n"
     ]
    }
   ],
   "source": [
    "def remove_vowels(s):\n",
    "    vowels = 'aeiouAEIOU'\n",
    "    return ''.join(filter(lambda char: char not in vowels, s))\n",
    "\n",
    "# Example usage:\n",
    "input_str = \"Hello World\"\n",
    "result = remove_vowels(input_str)\n",
    "print(result)"
   ]
  },
  {
   "cell_type": "code",
   "execution_count": null,
   "id": "b2831e05-bb49-4202-b174-3418288fef6a",
   "metadata": {},
   "outputs": [],
   "source": [
    "11) Imagine an accounting routine used in a book shop. It works on a list with sublists, which look like this:\n",
    "\n",
    "\n",
    "\n",
    "\n",
    "\n",
    "\n",
    "\n",
    "Write a Python program, which returns a list with 2-tuples. Each tuple consists of the order number and the\n",
    "product of the price per item and the quantity. The product should be increased by 10,- € if the value of the\n",
    "order is smaller than 100,00 €.\n",
    "\n",
    "Write a Python program using lambda and map."
   ]
  },
  {
   "cell_type": "code",
   "execution_count": null,
   "id": "f3a067a7-f637-471d-8988-6bcb16a65fb3",
   "metadata": {},
   "outputs": [],
   "source": []
  }
 ],
 "metadata": {
  "kernelspec": {
   "display_name": "Python 3 (ipykernel)",
   "language": "python",
   "name": "python3"
  },
  "language_info": {
   "codemirror_mode": {
    "name": "ipython",
    "version": 3
   },
   "file_extension": ".py",
   "mimetype": "text/x-python",
   "name": "python",
   "nbconvert_exporter": "python",
   "pygments_lexer": "ipython3",
   "version": "3.12.7"
  }
 },
 "nbformat": 4,
 "nbformat_minor": 5
}
